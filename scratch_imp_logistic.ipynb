{
 "cells": [
  {
   "cell_type": "markdown",
   "metadata": {},
   "source": [
    "### Logistic regression is a fundamental machine learning algorithm used for binary classification problems. It's a statistical method that estimates the probability of an instance belonging to a particular class. Despite its name, logistic regression is used for classification, not regression"
   ]
  },
  {
   "cell_type": "code",
   "execution_count": 3,
   "metadata": {},
   "outputs": [
    {
     "name": "stdout",
     "output_type": "stream",
     "text": [
      "[-10.          -9.7979798   -9.5959596   -9.39393939  -9.19191919\n",
      "  -8.98989899  -8.78787879  -8.58585859  -8.38383838  -8.18181818\n",
      "  -7.97979798  -7.77777778  -7.57575758  -7.37373737  -7.17171717\n",
      "  -6.96969697  -6.76767677  -6.56565657  -6.36363636  -6.16161616\n",
      "  -5.95959596  -5.75757576  -5.55555556  -5.35353535  -5.15151515\n",
      "  -4.94949495  -4.74747475  -4.54545455  -4.34343434  -4.14141414\n",
      "  -3.93939394  -3.73737374  -3.53535354  -3.33333333  -3.13131313\n",
      "  -2.92929293  -2.72727273  -2.52525253  -2.32323232  -2.12121212\n",
      "  -1.91919192  -1.71717172  -1.51515152  -1.31313131  -1.11111111\n",
      "  -0.90909091  -0.70707071  -0.50505051  -0.3030303   -0.1010101\n",
      "   0.1010101    0.3030303    0.50505051   0.70707071   0.90909091\n",
      "   1.11111111   1.31313131   1.51515152   1.71717172   1.91919192\n",
      "   2.12121212   2.32323232   2.52525253   2.72727273   2.92929293\n",
      "   3.13131313   3.33333333   3.53535354   3.73737374   3.93939394\n",
      "   4.14141414   4.34343434   4.54545455   4.74747475   4.94949495\n",
      "   5.15151515   5.35353535   5.55555556   5.75757576   5.95959596\n",
      "   6.16161616   6.36363636   6.56565657   6.76767677   6.96969697\n",
      "   7.17171717   7.37373737   7.57575758   7.77777778   7.97979798\n",
      "   8.18181818   8.38383838   8.58585859   8.78787879   8.98989899\n",
      "   9.19191919   9.39393939   9.5959596    9.7979798   10.        ]\n"
     ]
    },
    {
     "data": {
      "image/png": "[encoded data removed]",
      "text/plain": [
       "<Figure size 640x480 with 1 Axes>"
      ]
     },
     "metadata": {},
     "output_type": "display_data"
    }
   ],
   "source": [
    "import numpy as np\n",
    "import matplotlib.pyplot as plt\n",
    "\n",
    "# Sigmoid function\n",
    "def sigmoid(z):\n",
    "    return 1 / (1 + np.exp(-z))\n",
    "\n",
    "# Plot sigmoid function\n",
    "z = np.linspace(-10, 10, 100)\n",
    "print(z)\n",
    "y = sigmoid(z)\n",
    "plt.plot(z, y)\n",
    "plt.title('Sigmoid Function')\n",
    "plt.xlabel('z')\n",
    "plt.ylabel('sigmoid(z)')\n",
    "plt.grid(True)\n",
    "plt.show()"
   ]
  },
  {
   "cell_type": "markdown",
   "metadata": {},
   "source": [
    "### The sigmoid function is the heart of logistic regression. It maps any real-valued number to a value between 0 and 1, which can be interpreted as a probability. The sigmoid function is defined as σ(z) = 1 / (1 + e^(-z)), where z is the input and e is the base of natural logarithms."
   ]
  },
  {
   "cell_type": "code",
   "execution_count": 4,
   "metadata": {},
   "outputs": [
    {
     "name": "stdout",
     "output_type": "stream",
     "text": [
      "Sigmoid of 2 is 0.8808\n"
     ]
    }
   ],
   "source": [
    "def sigmoid(z):\n",
    "    return 1 / (1 + np.exp(-z))\n",
    "\n",
    "\n",
    "z = 2\n",
    "probability = sigmoid(z)\n",
    "print(f\"Sigmoid of {z} is {probability:.4f}\")   #rounded to 4 decimal places by using :.4f"
   ]
  },
  {
   "cell_type": "markdown",
   "metadata": {},
   "source": [
    "Hypothesis Function"
   ]
  },
  {
   "cell_type": "markdown",
   "metadata": {},
   "source": [
    "### In logistic regression, the hypothesis function combines the input features with the model parameters (weights and bias) and \n",
    "### passes the result through the sigmoid function. This gives us the predicted probability of the positive class."
   ]
  },
  {
   "cell_type": "code",
   "execution_count": 5,
   "metadata": {},
   "outputs": [
    {
     "name": "stdout",
     "output_type": "stream",
     "text": [
      "Predictions: [0.80218389 0.96083428]\n"
     ]
    }
   ],
   "source": [
    "def hypothesis(X, theta):\n",
    "    z = np.dot(X, theta)\n",
    "    return sigmoid(z)\n",
    "\n",
    "\n",
    "X = np.array([[1, 2, 3], [4, 5, 6]])  # 2 samples, 3 features each\n",
    "theta = np.array([0.1, 0.2, 0.3])     # 3 weights\n",
    "predictions = hypothesis(X, theta)\n",
    "print(\"Predictions:\", predictions)"
   ]
  },
  {
   "cell_type": "markdown",
   "metadata": {},
   "source": [
    "Cost Function\n",
    "\n",
    "### The cost function measures how well our model is performing. For logistic regression, we use the log loss (also known as cross-entropy loss). This function penalizes confident and wrong predictions more than less confident ones."
   ]
  },
  {
   "cell_type": "code",
   "execution_count": 7,
   "metadata": {},
   "outputs": [
    {
     "name": "stdout",
     "output_type": "stream",
     "text": [
      "Cost: 0.4764\n"
     ]
    }
   ],
   "source": [
    "def cost_function(X, y, theta):\n",
    "    m = len(y)        #m = Number of training samples    # y^(i) ->Actual label (0 or 1)\n",
    "\n",
    "    h = hypothesis(X, theta)  # h^(i) -> Model's predicted probability  h(X,θ)from sigmoid function)\n",
    "\n",
    "    cost = (-1/m) * np.sum(y * np.log(h) + (1-y) * np.log(1-h))\n",
    "    return cost\n",
    "\n",
    "\n",
    "X = np.array([[1, 2], [3, 4], [5, 6]])   # X = Input feature matrix\n",
    "y = np.array([0, 1, 1])\n",
    "theta = np.array([0.1, 0.2])    # Model parameters (weights)\n",
    "cost = cost_function(X, y, theta)\n",
    "print(f\"Cost: {cost:.4f}\")"
   ]
  },
  {
   "cell_type": "markdown",
   "metadata": {},
   "source": [
    "### Gradient descent is an optimization algorithm used to find the values of parameters (theta) that minimize the cost function. It works by iteratively adjusting the parameters in the direction of steepest decrease of the cost function."
   ]
  },
  {
   "cell_type": "code",
   "execution_count": 8,
   "metadata": {},
   "outputs": [],
   "source": [
    "def gradient_descent(X, y, theta, alpha, num_iters):\n",
    "    m = len(y)\n",
    "    J_history = []\n",
    "    # α= Learning rate (step size)\n",
    "    for _ in range(num_iters):\n",
    "        h = hypothesis(X, theta)\n",
    "        gradient = (1/m) * np.dot(X.T, (h - y))   # h- y -> error , X.T -> transpose of X\n",
    "        theta -= alpha * gradient\n",
    "        J_history.append(cost_function(X, y, theta))\n",
    "    \n",
    "    return theta, J_history"
   ]
  },
  {
   "cell_type": "markdown",
   "metadata": {},
   "source": [
    "### Training the Model\n",
    "\n",
    "### By using a simple dataset, let's  visualize the cost decrease over iterations.\n"
   ]
  },
  {
   "cell_type": "code",
   "execution_count": 11,
   "metadata": {},
   "outputs": [
    {
     "data": {
      "image/png": "[encoded data removed]",
      "text/plain": [
       "<Figure size 640x480 with 1 Axes>"
      ]
     },
     "metadata": {},
     "output_type": "display_data"
    },
    {
     "name": "stdout",
     "output_type": "stream",
     "text": [
      "Final theta: [-0.19167336  1.25661241  1.40253888]\n"
     ]
    }
   ],
   "source": [
    "# Generate some random data\n",
    "np.random.seed(42)\n",
    "X = np.random.randn(100, 2)\n",
    "y = (X[:, 0] + X[:, 1] > 0).astype(int)\n",
    "\n",
    "# Add bias term\n",
    "X = np.hstack((np.ones((X.shape[0], 1)), X))\n",
    "\n",
    "# Initialize parameters\n",
    "theta = np.zeros(3)\n",
    "\n",
    "# Train the model\n",
    "alpha = 0.01\n",
    "num_iters = 1000\n",
    "theta, J_history = gradient_descent(X, y, theta, alpha, num_iters)\n",
    "\n",
    "# Plot cost vs iterations\n",
    "plt.plot(J_history)\n",
    "plt.xlabel('Iterations')\n",
    "plt.ylabel('Cost')\n",
    "plt.title('Cost vs. Iterations')\n",
    "plt.show()\n",
    "\n",
    "print(\"Final theta:\", theta)"
   ]
  },
  {
   "cell_type": "markdown",
   "metadata": {},
   "source": [
    "### Making Predictions\n",
    "\n",
    "### Once we have trained our model and obtained the optimal parameters, we can use it to make predictions on new data.\n",
    "\n"
   ]
  },
  {
   "cell_type": "code",
   "execution_count": 12,
   "metadata": {},
   "outputs": [
    {
     "name": "stdout",
     "output_type": "stream",
     "text": [
      "Sample 1: Prediction = True, Probability = 0.5534\n",
      "Sample 2: Prediction = True, Probability = 0.7831\n"
     ]
    }
   ],
   "source": [
    "def predict(X, theta, threshold=0.5):\n",
    "    return hypothesis(X, theta) >= threshold\n",
    "\n",
    "\n",
    "X_new = np.array([[1, 0.1, 0.2], [1, -0.5, 1.5]])\n",
    "predictions = predict(X_new, theta)\n",
    "probabilities = hypothesis(X_new, theta)\n",
    "\n",
    "for i, (pred, prob) in enumerate(zip(predictions, probabilities)):\n",
    "    print(f\"Sample {i+1}: Prediction = {pred}, Probability = {prob:.4f}\")\n"
   ]
  },
  {
   "cell_type": "markdown",
   "metadata": {},
   "source": [
    "### Model Evaluation\n",
    "\n",
    "### To evaluate our model's performance, we can use metrics such as accuracy, precision, recall, and F1-score."
   ]
  },
  {
   "cell_type": "code",
   "execution_count": 13,
   "metadata": {},
   "outputs": [
    {
     "name": "stdout",
     "output_type": "stream",
     "text": [
      "Training Accuracy: 0.9700\n"
     ]
    }
   ],
   "source": [
    "def accuracy(X, y, theta):\n",
    "    predictions = predict(X, theta)\n",
    "    return np.mean(predictions == y)\n",
    "\n",
    "# Calculate accuracy on training data\n",
    "train_accuracy = accuracy(X, y, theta)\n",
    "print(f\"Training Accuracy: {train_accuracy:.4f}\")\n"
   ]
  },
  {
   "cell_type": "markdown",
   "metadata": {},
   "source": [
    "### Regularization   ->  Regularization helps prevent overfitting by adding a penalty term to the cost function. L2 regularization (also known as Ridge) is commonly used in logistic regression.\n",
    "\n"
   ]
  },
  {
   "cell_type": "code",
   "execution_count": 14,
   "metadata": {},
   "outputs": [],
   "source": [
    "def cost_function_regularized(X, y, theta, lambda_):\n",
    "    m = len(y)\n",
    "    h = hypothesis(X, theta)\n",
    "    reg_term = (lambda_ / (2 * m)) * np.sum(theta[1:]**2)\n",
    "    cost = (-1/m) * np.sum(y * np.log(h) + (1-y) * np.log(1-h)) + reg_term\n",
    "    return cost\n",
    "\n",
    "def gradient_descent_regularized(X, y, theta, alpha, num_iters, lambda_):\n",
    "    m = len(y)\n",
    "    J_history = []\n",
    "    \n",
    "    for _ in range(num_iters):\n",
    "        h = hypothesis(X, theta)\n",
    "        gradient = (1/m) * np.dot(X.T, (h - y))\n",
    "        gradient[1:] += (lambda_ / m) * theta[1:]\n",
    "        theta -= alpha * gradient\n",
    "        J_history.append(cost_function_regularized(X, y, theta, lambda_))\n",
    "    \n",
    "    return theta, J_history\n",
    "\n",
    "\n",
    "lambda_ = 0.1\n",
    "theta_reg, J_history_reg = gradient_descent_regularized(X, y, theta, alpha, num_iters, lambda_)"
   ]
  },
  {
   "cell_type": "markdown",
   "metadata": {},
   "source": [
    "### Feature Scaling -> It is crucial for the efficient performance of logistic regression. It ensures that all features contribute equally to the result and helps the gradient descent algorithm converge faster."
   ]
  },
  {
   "cell_type": "code",
   "execution_count": 15,
   "metadata": {},
   "outputs": [
    {
     "name": "stdout",
     "output_type": "stream",
     "text": [
      "Raw features:\n",
      "[[   1 1000]\n",
      " [   2 2000]\n",
      " [   3 3000]]\n",
      "\n",
      "Scaled features:\n",
      "[[-1.22474487 -1.22474487]\n",
      " [ 0.          0.        ]\n",
      " [ 1.22474487  1.22474487]]\n"
     ]
    }
   ],
   "source": [
    "def feature_scaling(X):\n",
    "    return (X - np.mean(X, axis=0)) / np.std(X, axis=0)\n",
    "\n",
    "X_raw = np.array([[1, 1000], [2, 2000], [3, 3000]])\n",
    "X_scaled = feature_scaling(X_raw)\n",
    "\n",
    "print(\"Raw features:\")\n",
    "print(X_raw)\n",
    "print(\"\\nScaled features:\")\n",
    "print(X_scaled)"
   ]
  },
  {
   "cell_type": "markdown",
   "metadata": {},
   "source": [
    "### Multiclass Classification\n",
    "### While logistic regression is inherently binary, we can extend it to multiclass problems using the one-vs-rest (OvR) approach."
   ]
  },
  {
   "cell_type": "code",
   "execution_count": 17,
   "metadata": {},
   "outputs": [],
   "source": [
    "def one_vs_rest(X, y, num_classes, alpha, num_iters):\n",
    "    n_features = X.shape[1]\n",
    "    thetas = np.zeros((num_classes, n_features))\n",
    "    \n",
    "    for i in range(num_classes):\n",
    "        y_binary = (y == i).astype(int)\n",
    "        theta = np.zeros(n_features)\n",
    "        theta, _ = gradient_descent(X, y_binary, theta, alpha, num_iters)\n",
    "        thetas[i] = theta\n",
    "    \n",
    "    return thetas\n",
    "\n",
    "def predict_multiclass(X, thetas):\n",
    "    probabilities = np.array([hypothesis(X, theta) for theta in thetas])\n",
    "    return np.argmax(probabilities, axis=0)\n",
    "\n",
    "# Assuming X and y are prepared for multiclass\n",
    "num_classes = 3\n",
    "thetas_multiclass = one_vs_rest(X, y, num_classes, alpha, num_iters)\n",
    "predictions_multiclass = predict_multiclass(X, thetas_multiclass)"
   ]
  },
  {
   "cell_type": "markdown",
   "metadata": {},
   "source": [
    "### Implement Logistic regression for real-life example"
   ]
  },
  {
   "cell_type": "markdown",
   "metadata": {},
   "source": [
    "### Logistic regression can be used for spam detection in emails. Features might include word frequencies, presence of certain phrases."
   ]
  },
  {
   "cell_type": "code",
   "execution_count": 18,
   "metadata": {},
   "outputs": [
    {
     "name": "stdout",
     "output_type": "stream",
     "text": [
      "Probability of being spam: 0.8129\n"
     ]
    }
   ],
   "source": [
    "# binary classification\n",
    "# Features: [bias, contains_urgent, num_capital_letters, num_links]\n",
    "X_emails = np.array([\n",
    "    [1, 0, 5, 1],   # Not spam\n",
    "    [1, 1, 15, 3],  # Spam\n",
    "    [1, 0, 3, 0],   # Not spam\n",
    "    [1, 1, 10, 5]   # Spam\n",
    "])\n",
    "y_emails = np.array([0, 1, 0, 1])\n",
    "\n",
    "theta_spam = np.zeros(4)\n",
    "theta_spam, _ = gradient_descent(X_emails, y_emails, theta_spam, 0.1, 1000)\n",
    "\n",
    "new_email = np.array([[1, 1, 8, 2]])\n",
    "spam_probability = hypothesis(new_email, theta_spam)\n",
    "print(f\"Probability of being spam: {spam_probability[0]:.4f}\")"
   ]
  },
  {
   "cell_type": "markdown",
   "metadata": {},
   "source": [
    "### Medical Diagnosis\n",
    "### Logistic regression can assist in medical diagnosis, such as predicting the likelihood of a disease based on various symptoms and test results."
   ]
  },
  {
   "cell_type": "code",
   "execution_count": 24,
   "metadata": {},
   "outputs": [
    {
     "name": "stdout",
     "output_type": "stream",
     "text": [
      "Risk of heart disease: 0.0001\n"
     ]
    },
    {
     "name": "stderr",
     "output_type": "stream",
     "text": [
      "/tmp/ipykernel_34200/1012151113.py:6: RuntimeWarning: divide by zero encountered in log\n",
      "  cost = (-1/m) * np.sum(y * np.log(h) + (1-y) * np.log(1-h))\n",
      "/tmp/ipykernel_34200/1012151113.py:6: RuntimeWarning: invalid value encountered in multiply\n",
      "  cost = (-1/m) * np.sum(y * np.log(h) + (1-y) * np.log(1-h))\n"
     ]
    }
   ],
   "source": [
    "# Features: [bias, age, blood_pressure, cholesterol, bmi]\n",
    "X_patients = np.array([\n",
    "    [1, 45, 120, 200, 25],\n",
    "    [1, 60, 140, 240, 30],\n",
    "    [1, 35, 110, 180, 22],\n",
    "    [1, 55, 130, 220, 28]\n",
    "])\n",
    "y_heart_disease = np.array([0, 1, 0, 1])\n",
    "\n",
    "theta_heart = np.zeros(5)\n",
    "theta_heart, _ = gradient_descent(X_patients, y_heart_disease, theta_heart, 0.01, 1000)\n",
    "\n",
    "new_patient = np.array([[1, 50, 135, 210, 27]])\n",
    "heart_disease_risk = hypothesis(new_patient, theta_heart)\n",
    "print(f\"Risk of heart disease: {heart_disease_risk[0]:.4f}\")"
   ]
  }
 ],
 "metadata": {
  "kernelspec": {
   "display_name": "Python 3",
   "language": "python",
   "name": "python3"
  },
  "language_info": {
   "codemirror_mode": {
    "name": "ipython",
    "version": 3
   },
   "file_extension": ".py",
   "mimetype": "text/x-python",
   "name": "python",
   "nbconvert_exporter": "python",
   "pygments_lexer": "ipython3",
   "version": "3.12.3"
  }
 },
 "nbformat": 4,
 "nbformat_minor": 2
}
